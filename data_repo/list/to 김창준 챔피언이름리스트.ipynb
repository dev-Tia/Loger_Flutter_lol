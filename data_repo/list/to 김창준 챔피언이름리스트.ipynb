{
 "cells": [
  {
   "cell_type": "code",
   "execution_count": 7,
   "metadata": {},
   "outputs": [],
   "source": [
    "src = { \"Aatrox\":{ \"num\":0, \"name-ko\":\"아트록스\" }, \"Ahri\":{ \"num\":1, \"name-ko\":\"아리\" }, \"Akali\":{ \"num\":2, \"name-ko\":\"아칼리\" }, \"Alistar\":{ \"num\":3, \"name-ko\":\"알리스타\" }, \"Amumu\":{ \"num\":4, \"name-ko\":\"아무무\" }, \"Anivia\":{ \"num\":5, \"name-ko\":\"애니비아\" }, \"Annie\":{ \"num\":6, \"name-ko\":\"애니\" }, \"Aphelios\":{ \"num\":7, \"name-ko\":\"아펠리오스\" }, \"Ashe\":{ \"num\":8, \"name-ko\":\"애쉬\" }, \"AurelionSol\":{ \"num\":9, \"name-ko\":\"아우렐리온 솔\" }, \"Azir\":{ \"num\":10, \"name-ko\":\"아지르\" }, \"Bard\":{ \"num\":11, \"name-ko\":\"바드\" }, \"Blitzcrank\":{ \"num\":12, \"name-ko\":\"블리츠크랭크\" }, \"Brand\":{ \"num\":13, \"name-ko\":\"브랜드\" }, \"Braum\":{ \"num\":14, \"name-ko\":\"브라움\" }, \"Caitlyn\":{ \"num\":15, \"name-ko\":\"케이틀린\" }, \"Camille\":{ \"num\":16, \"name-ko\":\"카밀\" }, \"Cassiopeia\":{ \"num\":17, \"name-ko\":\"카시오페아\" }, \"Chogath\":{ \"num\":18, \"name-ko\":\"초가스\" }, \"Corki\":{ \"num\":19, \"name-ko\":\"코르키\" }, \"Darius\":{ \"num\":20, \"name-ko\":\"다리우스\" }, \"Diana\":{ \"num\":21, \"name-ko\":\"다이애나\" }, \"Draven\":{ \"num\":22, \"name-ko\":\"드레이븐\" }, \"DrMundo\":{ \"num\":23, \"name-ko\":\"문도 박사\" }, \"Ekko\":{ \"num\":24, \"name-ko\":\"에코\" }, \"Elise\":{ \"num\":25, \"name-ko\":\"엘리스\" }, \"Evelynn\":{ \"num\":26, \"name-ko\":\"이블린\" }, \"Ezreal\":{ \"num\":27, \"name-ko\":\"이즈리얼\" }, \"Fiddlesticks\":{ \"num\":28, \"name-ko\":\"피들스틱\" }, \"Fiora\":{ \"num\":29, \"name-ko\":\"피오라\" }, \"Fizz\":{ \"num\":30, \"name-ko\":\"피즈\" }, \"Galio\":{ \"num\":31, \"name-ko\":\"갈리오\" }, \"Gangplank\":{ \"num\":32, \"name-ko\":\"갱플랭크\" }, \"Garen\":{ \"num\":33, \"name-ko\":\"가렌\" }, \"Gnar\":{ \"num\":34, \"name-ko\":\"나르\" }, \"Gragas\":{ \"num\":35, \"name-ko\":\"그라가스\" }, \"Graves\":{ \"num\":36, \"name-ko\":\"그레이브즈\" }, \"Hecarim\":{ \"num\":37, \"name-ko\":\"헤카림\" }, \"Heimerdinger\":{ \"num\":38, \"name-ko\":\"하이머딩거\" }, \"Illaoi\":{ \"num\":39, \"name-ko\":\"일라오이\" }, \"Irelia\":{ \"num\":40, \"name-ko\":\"이렐리아\" }, \"Ivern\":{ \"num\":41, \"name-ko\":\"아이번\" }, \"Janna\":{ \"num\":42, \"name-ko\":\"잔나\" }, \"JarvanIV\":{ \"num\":43, \"name-ko\":\"자르반 4세\" }, \"Jax\":{ \"num\":44, \"name-ko\":\"잭스\" }, \"Jayce\":{ \"num\":45, \"name-ko\":\"제이스\" }, \"Jhin\":{ \"num\":46, \"name-ko\":\"진\" }, \"Jinx\":{ \"num\":47, \"name-ko\":\"징크스\" }, \"Kaisa\":{ \"num\":48, \"name-ko\":\"카이사\" }, \"Kalista\":{ \"num\":49, \"name-ko\":\"칼리스타\" }, \"Karma\":{ \"num\":50, \"name-ko\":\"카르마\" }, \"Karthus\":{ \"num\":51, \"name-ko\":\"카서스\" }, \"Kassadin\":{ \"num\":52, \"name-ko\":\"카사딘\" }, \"Katarina\":{ \"num\":53, \"name-ko\":\"카타리나\" }, \"Kayle\":{ \"num\":54, \"name-ko\":\"케일\" }, \"Kayn\":{ \"num\":55, \"name-ko\":\"케인\" }, \"Kennen\":{ \"num\":56, \"name-ko\":\"케넨\" }, \"Khazix\":{ \"num\":57, \"name-ko\":\"카직스\" }, \"Kindred\":{ \"num\":58, \"name-ko\":\"킨드레드\" }, \"Kled\":{ \"num\":59, \"name-ko\":\"클레드\" }, \"KogMaw\":{ \"num\":60, \"name-ko\":\"코그모\" }, \"Leblanc\":{ \"num\":61, \"name-ko\":\"르블랑\" }, \"LeeSin\":{ \"num\":62, \"name-ko\":\"리 신\" }, \"Leona\":{ \"num\":63, \"name-ko\":\"레오나\" }, \"Lissandra\":{ \"num\":64, \"name-ko\":\"리산드라\" }, \"Lucian\":{ \"num\":65, \"name-ko\":\"루시안\" }, \"Lulu\":{ \"num\":66, \"name-ko\":\"룰루\" }, \"Lux\":{ \"num\":67, \"name-ko\":\"럭스\" }, \"Malphite\":{ \"num\":68, \"name-ko\":\"말파이트\" }, \"Malzahar\":{ \"num\":69, \"name-ko\":\"말자하\" }, \"Maokai\":{ \"num\":70, \"name-ko\":\"마오카이\" }, \"MasterYi\":{ \"num\":71, \"name-ko\":\"마스터 이\" }, \"MissFortune\":{ \"num\":72, \"name-ko\":\"미스 포츈\" }, \"MonkeyKing\":{ \"num\":73, \"name-ko\":\"오공\" }, \"Mordekaiser\":{ \"num\":74, \"name-ko\":\"모데카이저\" }, \"Morgana\":{ \"num\":75, \"name-ko\":\"모르가나\" }, \"Nami\":{ \"num\":76, \"name-ko\":\"나미\" }, \"Nasus\":{ \"num\":77, \"name-ko\":\"나서스\" }, \"Nautilus\":{ \"num\":78, \"name-ko\":\"노틸러스\" }, \"Neeko\":{ \"num\":79, \"name-ko\":\"니코\" }, \"Nidalee\":{ \"num\":80, \"name-ko\":\"니달리\" }, \"Nocturne\":{ \"num\":81, \"name-ko\":\"녹턴\" }, \"Nunu\":{ \"num\":82, \"name-ko\":\"누누와 윌럼프\" }, \"Olaf\":{ \"num\":83, \"name-ko\":\"올라프\" }, \"Orianna\":{ \"num\":84, \"name-ko\":\"오리아나\" }, \"Ornn\":{ \"num\":85, \"name-ko\":\"오른\" }, \"Pantheon\":{ \"num\":86, \"name-ko\":\"판테온\" }, \"Poppy\":{ \"num\":87, \"name-ko\":\"뽀삐\" }, \"Pyke\":{ \"num\":88, \"name-ko\":\"파이크\" }, \"Qiyana\":{ \"num\":89, \"name-ko\":\"키아나\" }, \"Quinn\":{ \"num\":90, \"name-ko\":\"퀸\" }, \"Rakan\":{ \"num\":91, \"name-ko\":\"라칸\" }, \"Rammus\":{ \"num\":92, \"name-ko\":\"람머스\" }, \"RekSai\":{ \"num\":93, \"name-ko\":\"렉사이\" }, \"Renekton\":{ \"num\":94, \"name-ko\":\"레넥톤\" }, \"Rengar\":{ \"num\":95, \"name-ko\":\"렝가\" }, \"Riven\":{ \"num\":96, \"name-ko\":\"리븐\" }, \"Rumble\":{ \"num\":97, \"name-ko\":\"럼블\" }, \"Ryze\":{ \"num\":98, \"name-ko\":\"라이즈\" }, \"Sejuani\":{ \"num\":99, \"name-ko\":\"세주아니\" }, \"Senna\":{ \"num\":100, \"name-ko\":\"세나\" }, \"Sett\":{ \"num\":101, \"name-ko\":\"세트\" }, \"Shaco\":{ \"num\":102, \"name-ko\":\"샤코\" }, \"Shen\":{ \"num\":103, \"name-ko\":\"쉔\" }, \"Shyvana\":{ \"num\":104, \"name-ko\":\"쉬바나\" }, \"Singed\":{ \"num\":105, \"name-ko\":\"신지드\" }, \"Sion\":{ \"num\":106, \"name-ko\":\"사이온\" }, \"Sivir\":{ \"num\":107, \"name-ko\":\"시비르\" }, \"Skarner\":{ \"num\":108, \"name-ko\":\"스카너\" }, \"Sona\":{ \"num\":109, \"name-ko\":\"소나\" }, \"Soraka\":{ \"num\":110, \"name-ko\":\"소라카\" }, \"Swain\":{ \"num\":111, \"name-ko\":\"스웨인\" }, \"Sylas\":{ \"num\":112, \"name-ko\":\"사일러스\" }, \"Syndra\":{ \"num\":113, \"name-ko\":\"신드라\" }, \"TahmKench\":{ \"num\":114, \"name-ko\":\"탐 켄치\" }, \"Taliyah\":{ \"num\":115, \"name-ko\":\"탈리야\" }, \"Talon\":{ \"num\":116, \"name-ko\":\"탈론\" }, \"Taric\":{ \"num\":117, \"name-ko\":\"타릭\" }, \"Teemo\":{ \"num\":118, \"name-ko\":\"티모\" }, \"Thresh\":{ \"num\":119, \"name-ko\":\"쓰레쉬\" }, \"Tristana\":{ \"num\":120, \"name-ko\":\"트리스타나\" }, \"Trundle\":{ \"num\":121, \"name-ko\":\"트런들\" }, \"Tryndamere\":{ \"num\":122, \"name-ko\":\"트린다미어\" }, \"TwistedFate\":{ \"num\":123, \"name-ko\":\"트위스티드 페이트\" }, \"Twitch\":{ \"num\":124, \"name-ko\":\"트위치\" }, \"Udyr\":{ \"num\":125, \"name-ko\":\"우디르\" }, \"Urgot\":{ \"num\":126, \"name-ko\":\"우르곳\" }, \"Varus\":{ \"num\":127, \"name-ko\":\"바루스\" }, \"Vayne\":{ \"num\":128, \"name-ko\":\"베인\" }, \"Veigar\":{ \"num\":129, \"name-ko\":\"베이가\" }, \"Velkoz\":{ \"num\":130, \"name-ko\":\"벨코즈\" }, \"Vi\":{ \"num\":131, \"name-ko\":\"바이\" }, \"Viktor\":{ \"num\":132, \"name-ko\":\"빅토르\" }, \"Vladimir\":{ \"num\":133, \"name-ko\":\"블라디미르\" }, \"Volibear\":{ \"num\":134, \"name-ko\":\"볼리베어\" }, \"Warwick\":{ \"num\":135, \"name-ko\":\"워윅\" }, \"Xayah\":{ \"num\":136, \"name-ko\":\"자야\" }, \"Xerath\":{ \"num\":137, \"name-ko\":\"제라스\" }, \"XinZhao\":{ \"num\":138, \"name-ko\":\"신 짜오\" }, \"Yasuo\":{ \"num\":139, \"name-ko\":\"야스오\" }, \"Yorick\":{ \"num\":140, \"name-ko\":\"요릭\" }, \"Yuumi\":{ \"num\":141, \"name-ko\":\"유미\" }, \"Zac\":{ \"num\":142, \"name-ko\":\"자크\" }, \"Zed\":{ \"num\":143, \"name-ko\":\"제드\" }, \"Ziggs\":{ \"num\":144, \"name-ko\":\"직스\" }, \"Zilean\":{ \"num\":145, \"name-ko\":\"질리언\" }, \"Zoe\":{ \"num\":146, \"name-ko\":\"조이\" }, \"Zyra\":{ \"num\":147, \"name-ko\":\"자이라\" } }"
   ]
  },
  {
   "cell_type": "code",
   "execution_count": 3,
   "metadata": {},
   "outputs": [
    {
     "data": {
      "text/plain": [
       "{'num': 0, 'name-ko': '아트록스'}"
      ]
     },
     "execution_count": 3,
     "metadata": {},
     "output_type": "execute_result"
    }
   ],
   "source": [
    "src[\"Aatrox\"]"
   ]
  },
  {
   "cell_type": "code",
   "execution_count": 18,
   "metadata": {},
   "outputs": [
    {
     "name": "stdout",
     "output_type": "stream",
     "text": [
      "{'num': 0, 'name-ko': '아트록스', 'imgsrc': 'img/Aatrox.png', 'name': 'Aatrox'}\n",
      "{'num': 1, 'name-ko': '아리', 'imgsrc': 'img/Ahri.png', 'name': 'Ahri'}\n",
      "{'num': 2, 'name-ko': '아칼리', 'imgsrc': 'img/Akali.png', 'name': 'Akali'}\n",
      "{'num': 3, 'name-ko': '알리스타', 'imgsrc': 'img/Alistar.png', 'name': 'Alistar'}\n",
      "{'num': 4, 'name-ko': '아무무', 'imgsrc': 'img/Amumu.png', 'name': 'Amumu'}\n",
      "{'num': 5, 'name-ko': '애니비아', 'imgsrc': 'img/Anivia.png', 'name': 'Anivia'}\n",
      "{'num': 6, 'name-ko': '애니', 'imgsrc': 'img/Annie.png', 'name': 'Annie'}\n",
      "{'num': 7, 'name-ko': '아펠리오스', 'imgsrc': 'img/Aphelios.png', 'name': 'Aphelios'}\n",
      "{'num': 8, 'name-ko': '애쉬', 'imgsrc': 'img/Ashe.png', 'name': 'Ashe'}\n",
      "{'num': 9, 'name-ko': '아우렐리온 솔', 'imgsrc': 'img/AurelionSol.png', 'name': 'AurelionSol'}\n",
      "{'num': 10, 'name-ko': '아지르', 'imgsrc': 'img/Azir.png', 'name': 'Azir'}\n",
      "{'num': 11, 'name-ko': '바드', 'imgsrc': 'img/Bard.png', 'name': 'Bard'}\n",
      "{'num': 12, 'name-ko': '블리츠크랭크', 'imgsrc': 'img/Blitzcrank.png', 'name': 'Blitzcrank'}\n",
      "{'num': 13, 'name-ko': '브랜드', 'imgsrc': 'img/Brand.png', 'name': 'Brand'}\n",
      "{'num': 14, 'name-ko': '브라움', 'imgsrc': 'img/Braum.png', 'name': 'Braum'}\n",
      "{'num': 15, 'name-ko': '케이틀린', 'imgsrc': 'img/Caitlyn.png', 'name': 'Caitlyn'}\n",
      "{'num': 16, 'name-ko': '카밀', 'imgsrc': 'img/Camille.png', 'name': 'Camille'}\n",
      "{'num': 17, 'name-ko': '카시오페아', 'imgsrc': 'img/Cassiopeia.png', 'name': 'Cassiopeia'}\n",
      "{'num': 18, 'name-ko': '초가스', 'imgsrc': 'img/Chogath.png', 'name': 'Chogath'}\n",
      "{'num': 19, 'name-ko': '코르키', 'imgsrc': 'img/Corki.png', 'name': 'Corki'}\n",
      "{'num': 20, 'name-ko': '다리우스', 'imgsrc': 'img/Darius.png', 'name': 'Darius'}\n",
      "{'num': 21, 'name-ko': '다이애나', 'imgsrc': 'img/Diana.png', 'name': 'Diana'}\n",
      "{'num': 22, 'name-ko': '드레이븐', 'imgsrc': 'img/Draven.png', 'name': 'Draven'}\n",
      "{'num': 23, 'name-ko': '문도 박사', 'imgsrc': 'img/DrMundo.png', 'name': 'DrMundo'}\n",
      "{'num': 24, 'name-ko': '에코', 'imgsrc': 'img/Ekko.png', 'name': 'Ekko'}\n",
      "{'num': 25, 'name-ko': '엘리스', 'imgsrc': 'img/Elise.png', 'name': 'Elise'}\n",
      "{'num': 26, 'name-ko': '이블린', 'imgsrc': 'img/Evelynn.png', 'name': 'Evelynn'}\n",
      "{'num': 27, 'name-ko': '이즈리얼', 'imgsrc': 'img/Ezreal.png', 'name': 'Ezreal'}\n",
      "{'num': 28, 'name-ko': '피들스틱', 'imgsrc': 'img/Fiddlesticks.png', 'name': 'Fiddlesticks'}\n",
      "{'num': 29, 'name-ko': '피오라', 'imgsrc': 'img/Fiora.png', 'name': 'Fiora'}\n",
      "{'num': 30, 'name-ko': '피즈', 'imgsrc': 'img/Fizz.png', 'name': 'Fizz'}\n",
      "{'num': 31, 'name-ko': '갈리오', 'imgsrc': 'img/Galio.png', 'name': 'Galio'}\n",
      "{'num': 32, 'name-ko': '갱플랭크', 'imgsrc': 'img/Gangplank.png', 'name': 'Gangplank'}\n",
      "{'num': 33, 'name-ko': '가렌', 'imgsrc': 'img/Garen.png', 'name': 'Garen'}\n",
      "{'num': 34, 'name-ko': '나르', 'imgsrc': 'img/Gnar.png', 'name': 'Gnar'}\n",
      "{'num': 35, 'name-ko': '그라가스', 'imgsrc': 'img/Gragas.png', 'name': 'Gragas'}\n",
      "{'num': 36, 'name-ko': '그레이브즈', 'imgsrc': 'img/Graves.png', 'name': 'Graves'}\n",
      "{'num': 37, 'name-ko': '헤카림', 'imgsrc': 'img/Hecarim.png', 'name': 'Hecarim'}\n",
      "{'num': 38, 'name-ko': '하이머딩거', 'imgsrc': 'img/Heimerdinger.png', 'name': 'Heimerdinger'}\n",
      "{'num': 39, 'name-ko': '일라오이', 'imgsrc': 'img/Illaoi.png', 'name': 'Illaoi'}\n",
      "{'num': 40, 'name-ko': '이렐리아', 'imgsrc': 'img/Irelia.png', 'name': 'Irelia'}\n",
      "{'num': 41, 'name-ko': '아이번', 'imgsrc': 'img/Ivern.png', 'name': 'Ivern'}\n",
      "{'num': 42, 'name-ko': '잔나', 'imgsrc': 'img/Janna.png', 'name': 'Janna'}\n",
      "{'num': 43, 'name-ko': '자르반 4세', 'imgsrc': 'img/JarvanIV.png', 'name': 'JarvanIV'}\n",
      "{'num': 44, 'name-ko': '잭스', 'imgsrc': 'img/Jax.png', 'name': 'Jax'}\n",
      "{'num': 45, 'name-ko': '제이스', 'imgsrc': 'img/Jayce.png', 'name': 'Jayce'}\n",
      "{'num': 46, 'name-ko': '진', 'imgsrc': 'img/Jhin.png', 'name': 'Jhin'}\n",
      "{'num': 47, 'name-ko': '징크스', 'imgsrc': 'img/Jinx.png', 'name': 'Jinx'}\n",
      "{'num': 48, 'name-ko': '카이사', 'imgsrc': 'img/Kaisa.png', 'name': 'Kaisa'}\n",
      "{'num': 49, 'name-ko': '칼리스타', 'imgsrc': 'img/Kalista.png', 'name': 'Kalista'}\n",
      "{'num': 50, 'name-ko': '카르마', 'imgsrc': 'img/Karma.png', 'name': 'Karma'}\n",
      "{'num': 51, 'name-ko': '카서스', 'imgsrc': 'img/Karthus.png', 'name': 'Karthus'}\n",
      "{'num': 52, 'name-ko': '카사딘', 'imgsrc': 'img/Kassadin.png', 'name': 'Kassadin'}\n",
      "{'num': 53, 'name-ko': '카타리나', 'imgsrc': 'img/Katarina.png', 'name': 'Katarina'}\n",
      "{'num': 54, 'name-ko': '케일', 'imgsrc': 'img/Kayle.png', 'name': 'Kayle'}\n",
      "{'num': 55, 'name-ko': '케인', 'imgsrc': 'img/Kayn.png', 'name': 'Kayn'}\n",
      "{'num': 56, 'name-ko': '케넨', 'imgsrc': 'img/Kennen.png', 'name': 'Kennen'}\n",
      "{'num': 57, 'name-ko': '카직스', 'imgsrc': 'img/Khazix.png', 'name': 'Khazix'}\n",
      "{'num': 58, 'name-ko': '킨드레드', 'imgsrc': 'img/Kindred.png', 'name': 'Kindred'}\n",
      "{'num': 59, 'name-ko': '클레드', 'imgsrc': 'img/Kled.png', 'name': 'Kled'}\n",
      "{'num': 60, 'name-ko': '코그모', 'imgsrc': 'img/KogMaw.png', 'name': 'KogMaw'}\n",
      "{'num': 61, 'name-ko': '르블랑', 'imgsrc': 'img/Leblanc.png', 'name': 'Leblanc'}\n",
      "{'num': 62, 'name-ko': '리 신', 'imgsrc': 'img/LeeSin.png', 'name': 'LeeSin'}\n",
      "{'num': 63, 'name-ko': '레오나', 'imgsrc': 'img/Leona.png', 'name': 'Leona'}\n",
      "{'num': 64, 'name-ko': '리산드라', 'imgsrc': 'img/Lissandra.png', 'name': 'Lissandra'}\n",
      "{'num': 65, 'name-ko': '루시안', 'imgsrc': 'img/Lucian.png', 'name': 'Lucian'}\n",
      "{'num': 66, 'name-ko': '룰루', 'imgsrc': 'img/Lulu.png', 'name': 'Lulu'}\n",
      "{'num': 67, 'name-ko': '럭스', 'imgsrc': 'img/Lux.png', 'name': 'Lux'}\n",
      "{'num': 68, 'name-ko': '말파이트', 'imgsrc': 'img/Malphite.png', 'name': 'Malphite'}\n",
      "{'num': 69, 'name-ko': '말자하', 'imgsrc': 'img/Malzahar.png', 'name': 'Malzahar'}\n",
      "{'num': 70, 'name-ko': '마오카이', 'imgsrc': 'img/Maokai.png', 'name': 'Maokai'}\n",
      "{'num': 71, 'name-ko': '마스터 이', 'imgsrc': 'img/MasterYi.png', 'name': 'MasterYi'}\n",
      "{'num': 72, 'name-ko': '미스 포츈', 'imgsrc': 'img/MissFortune.png', 'name': 'MissFortune'}\n",
      "{'num': 73, 'name-ko': '오공', 'imgsrc': 'img/MonkeyKing.png', 'name': 'MonkeyKing'}\n",
      "{'num': 74, 'name-ko': '모데카이저', 'imgsrc': 'img/Mordekaiser.png', 'name': 'Mordekaiser'}\n",
      "{'num': 75, 'name-ko': '모르가나', 'imgsrc': 'img/Morgana.png', 'name': 'Morgana'}\n",
      "{'num': 76, 'name-ko': '나미', 'imgsrc': 'img/Nami.png', 'name': 'Nami'}\n",
      "{'num': 77, 'name-ko': '나서스', 'imgsrc': 'img/Nasus.png', 'name': 'Nasus'}\n",
      "{'num': 78, 'name-ko': '노틸러스', 'imgsrc': 'img/Nautilus.png', 'name': 'Nautilus'}\n",
      "{'num': 79, 'name-ko': '니코', 'imgsrc': 'img/Neeko.png', 'name': 'Neeko'}\n",
      "{'num': 80, 'name-ko': '니달리', 'imgsrc': 'img/Nidalee.png', 'name': 'Nidalee'}\n",
      "{'num': 81, 'name-ko': '녹턴', 'imgsrc': 'img/Nocturne.png', 'name': 'Nocturne'}\n",
      "{'num': 82, 'name-ko': '누누와 윌럼프', 'imgsrc': 'img/Nunu.png', 'name': 'Nunu'}\n",
      "{'num': 83, 'name-ko': '올라프', 'imgsrc': 'img/Olaf.png', 'name': 'Olaf'}\n",
      "{'num': 84, 'name-ko': '오리아나', 'imgsrc': 'img/Orianna.png', 'name': 'Orianna'}\n",
      "{'num': 85, 'name-ko': '오른', 'imgsrc': 'img/Ornn.png', 'name': 'Ornn'}\n",
      "{'num': 86, 'name-ko': '판테온', 'imgsrc': 'img/Pantheon.png', 'name': 'Pantheon'}\n",
      "{'num': 87, 'name-ko': '뽀삐', 'imgsrc': 'img/Poppy.png', 'name': 'Poppy'}\n",
      "{'num': 88, 'name-ko': '파이크', 'imgsrc': 'img/Pyke.png', 'name': 'Pyke'}\n",
      "{'num': 89, 'name-ko': '키아나', 'imgsrc': 'img/Qiyana.png', 'name': 'Qiyana'}\n",
      "{'num': 90, 'name-ko': '퀸', 'imgsrc': 'img/Quinn.png', 'name': 'Quinn'}\n",
      "{'num': 91, 'name-ko': '라칸', 'imgsrc': 'img/Rakan.png', 'name': 'Rakan'}\n",
      "{'num': 92, 'name-ko': '람머스', 'imgsrc': 'img/Rammus.png', 'name': 'Rammus'}\n",
      "{'num': 93, 'name-ko': '렉사이', 'imgsrc': 'img/RekSai.png', 'name': 'RekSai'}\n",
      "{'num': 94, 'name-ko': '레넥톤', 'imgsrc': 'img/Renekton.png', 'name': 'Renekton'}\n",
      "{'num': 95, 'name-ko': '렝가', 'imgsrc': 'img/Rengar.png', 'name': 'Rengar'}\n",
      "{'num': 96, 'name-ko': '리븐', 'imgsrc': 'img/Riven.png', 'name': 'Riven'}\n",
      "{'num': 97, 'name-ko': '럼블', 'imgsrc': 'img/Rumble.png', 'name': 'Rumble'}\n",
      "{'num': 98, 'name-ko': '라이즈', 'imgsrc': 'img/Ryze.png', 'name': 'Ryze'}\n",
      "{'num': 99, 'name-ko': '세주아니', 'imgsrc': 'img/Sejuani.png', 'name': 'Sejuani'}\n",
      "{'num': 100, 'name-ko': '세나', 'imgsrc': 'img/Senna.png', 'name': 'Senna'}\n",
      "{'num': 101, 'name-ko': '세트', 'imgsrc': 'img/Sett.png', 'name': 'Sett'}\n",
      "{'num': 102, 'name-ko': '샤코', 'imgsrc': 'img/Shaco.png', 'name': 'Shaco'}\n",
      "{'num': 103, 'name-ko': '쉔', 'imgsrc': 'img/Shen.png', 'name': 'Shen'}\n",
      "{'num': 104, 'name-ko': '쉬바나', 'imgsrc': 'img/Shyvana.png', 'name': 'Shyvana'}\n",
      "{'num': 105, 'name-ko': '신지드', 'imgsrc': 'img/Singed.png', 'name': 'Singed'}\n",
      "{'num': 106, 'name-ko': '사이온', 'imgsrc': 'img/Sion.png', 'name': 'Sion'}\n",
      "{'num': 107, 'name-ko': '시비르', 'imgsrc': 'img/Sivir.png', 'name': 'Sivir'}\n",
      "{'num': 108, 'name-ko': '스카너', 'imgsrc': 'img/Skarner.png', 'name': 'Skarner'}\n",
      "{'num': 109, 'name-ko': '소나', 'imgsrc': 'img/Sona.png', 'name': 'Sona'}\n",
      "{'num': 110, 'name-ko': '소라카', 'imgsrc': 'img/Soraka.png', 'name': 'Soraka'}\n",
      "{'num': 111, 'name-ko': '스웨인', 'imgsrc': 'img/Swain.png', 'name': 'Swain'}\n",
      "{'num': 112, 'name-ko': '사일러스', 'imgsrc': 'img/Sylas.png', 'name': 'Sylas'}\n",
      "{'num': 113, 'name-ko': '신드라', 'imgsrc': 'img/Syndra.png', 'name': 'Syndra'}\n",
      "{'num': 114, 'name-ko': '탐 켄치', 'imgsrc': 'img/TahmKench.png', 'name': 'TahmKench'}\n",
      "{'num': 115, 'name-ko': '탈리야', 'imgsrc': 'img/Taliyah.png', 'name': 'Taliyah'}\n",
      "{'num': 116, 'name-ko': '탈론', 'imgsrc': 'img/Talon.png', 'name': 'Talon'}\n",
      "{'num': 117, 'name-ko': '타릭', 'imgsrc': 'img/Taric.png', 'name': 'Taric'}\n",
      "{'num': 118, 'name-ko': '티모', 'imgsrc': 'img/Teemo.png', 'name': 'Teemo'}\n",
      "{'num': 119, 'name-ko': '쓰레쉬', 'imgsrc': 'img/Thresh.png', 'name': 'Thresh'}\n",
      "{'num': 120, 'name-ko': '트리스타나', 'imgsrc': 'img/Tristana.png', 'name': 'Tristana'}\n",
      "{'num': 121, 'name-ko': '트런들', 'imgsrc': 'img/Trundle.png', 'name': 'Trundle'}\n",
      "{'num': 122, 'name-ko': '트린다미어', 'imgsrc': 'img/Tryndamere.png', 'name': 'Tryndamere'}\n",
      "{'num': 123, 'name-ko': '트위스티드 페이트', 'imgsrc': 'img/TwistedFate.png', 'name': 'TwistedFate'}\n",
      "{'num': 124, 'name-ko': '트위치', 'imgsrc': 'img/Twitch.png', 'name': 'Twitch'}\n",
      "{'num': 125, 'name-ko': '우디르', 'imgsrc': 'img/Udyr.png', 'name': 'Udyr'}\n",
      "{'num': 126, 'name-ko': '우르곳', 'imgsrc': 'img/Urgot.png', 'name': 'Urgot'}\n",
      "{'num': 127, 'name-ko': '바루스', 'imgsrc': 'img/Varus.png', 'name': 'Varus'}\n",
      "{'num': 128, 'name-ko': '베인', 'imgsrc': 'img/Vayne.png', 'name': 'Vayne'}\n",
      "{'num': 129, 'name-ko': '베이가', 'imgsrc': 'img/Veigar.png', 'name': 'Veigar'}\n",
      "{'num': 130, 'name-ko': '벨코즈', 'imgsrc': 'img/Velkoz.png', 'name': 'Velkoz'}\n",
      "{'num': 131, 'name-ko': '바이', 'imgsrc': 'img/Vi.png', 'name': 'Vi'}\n",
      "{'num': 132, 'name-ko': '빅토르', 'imgsrc': 'img/Viktor.png', 'name': 'Viktor'}\n",
      "{'num': 133, 'name-ko': '블라디미르', 'imgsrc': 'img/Vladimir.png', 'name': 'Vladimir'}\n",
      "{'num': 134, 'name-ko': '볼리베어', 'imgsrc': 'img/Volibear.png', 'name': 'Volibear'}\n",
      "{'num': 135, 'name-ko': '워윅', 'imgsrc': 'img/Warwick.png', 'name': 'Warwick'}\n",
      "{'num': 136, 'name-ko': '자야', 'imgsrc': 'img/Xayah.png', 'name': 'Xayah'}\n",
      "{'num': 137, 'name-ko': '제라스', 'imgsrc': 'img/Xerath.png', 'name': 'Xerath'}\n",
      "{'num': 138, 'name-ko': '신 짜오', 'imgsrc': 'img/XinZhao.png', 'name': 'XinZhao'}\n",
      "{'num': 139, 'name-ko': '야스오', 'imgsrc': 'img/Yasuo.png', 'name': 'Yasuo'}\n",
      "{'num': 140, 'name-ko': '요릭', 'imgsrc': 'img/Yorick.png', 'name': 'Yorick'}\n",
      "{'num': 141, 'name-ko': '유미', 'imgsrc': 'img/Yuumi.png', 'name': 'Yuumi'}\n",
      "{'num': 142, 'name-ko': '자크', 'imgsrc': 'img/Zac.png', 'name': 'Zac'}\n",
      "{'num': 143, 'name-ko': '제드', 'imgsrc': 'img/Zed.png', 'name': 'Zed'}\n",
      "{'num': 144, 'name-ko': '직스', 'imgsrc': 'img/Ziggs.png', 'name': 'Ziggs'}\n",
      "{'num': 145, 'name-ko': '질리언', 'imgsrc': 'img/Zilean.png', 'name': 'Zilean'}\n",
      "{'num': 146, 'name-ko': '조이', 'imgsrc': 'img/Zoe.png', 'name': 'Zoe'}\n",
      "{'num': 147, 'name-ko': '자이라', 'imgsrc': 'img/Zyra.png', 'name': 'Zyra'}\n"
     ]
    }
   ],
   "source": [
    "List = []\n",
    "\n",
    "for i in src:\n",
    "    \n",
    "    temp = src[i]\n",
    "    \n",
    "    temp[\"name\"] = i\n",
    "    temp[\"imgsrc\"] = \"img/\"+ i + \".png\"\n",
    "    \n",
    "    print(temp)\n",
    "    List.append(temp)"
   ]
  },
  {
   "cell_type": "code",
   "execution_count": 20,
   "metadata": {},
   "outputs": [
    {
     "name": "stdout",
     "output_type": "stream",
     "text": [
      "[{'num': 0, 'name-ko': '아트록스', 'imgsrc': 'img/Aatrox.png', 'name': 'Aatrox'}, {'num': 1, 'name-ko': '아리', 'imgsrc': 'img/Ahri.png', 'name': 'Ahri'}, {'num': 2, 'name-ko': '아칼리', 'imgsrc': 'img/Akali.png', 'name': 'Akali'}, {'num': 3, 'name-ko': '알리스타', 'imgsrc': 'img/Alistar.png', 'name': 'Alistar'}, {'num': 4, 'name-ko': '아무무', 'imgsrc': 'img/Amumu.png', 'name': 'Amumu'}, {'num': 5, 'name-ko': '애니비아', 'imgsrc': 'img/Anivia.png', 'name': 'Anivia'}, {'num': 6, 'name-ko': '애니', 'imgsrc': 'img/Annie.png', 'name': 'Annie'}, {'num': 7, 'name-ko': '아펠리오스', 'imgsrc': 'img/Aphelios.png', 'name': 'Aphelios'}, {'num': 8, 'name-ko': '애쉬', 'imgsrc': 'img/Ashe.png', 'name': 'Ashe'}, {'num': 9, 'name-ko': '아우렐리온 솔', 'imgsrc': 'img/AurelionSol.png', 'name': 'AurelionSol'}, {'num': 10, 'name-ko': '아지르', 'imgsrc': 'img/Azir.png', 'name': 'Azir'}, {'num': 11, 'name-ko': '바드', 'imgsrc': 'img/Bard.png', 'name': 'Bard'}, {'num': 12, 'name-ko': '블리츠크랭크', 'imgsrc': 'img/Blitzcrank.png', 'name': 'Blitzcrank'}, {'num': 13, 'name-ko': '브랜드', 'imgsrc': 'img/Brand.png', 'name': 'Brand'}, {'num': 14, 'name-ko': '브라움', 'imgsrc': 'img/Braum.png', 'name': 'Braum'}, {'num': 15, 'name-ko': '케이틀린', 'imgsrc': 'img/Caitlyn.png', 'name': 'Caitlyn'}, {'num': 16, 'name-ko': '카밀', 'imgsrc': 'img/Camille.png', 'name': 'Camille'}, {'num': 17, 'name-ko': '카시오페아', 'imgsrc': 'img/Cassiopeia.png', 'name': 'Cassiopeia'}, {'num': 18, 'name-ko': '초가스', 'imgsrc': 'img/Chogath.png', 'name': 'Chogath'}, {'num': 19, 'name-ko': '코르키', 'imgsrc': 'img/Corki.png', 'name': 'Corki'}, {'num': 20, 'name-ko': '다리우스', 'imgsrc': 'img/Darius.png', 'name': 'Darius'}, {'num': 21, 'name-ko': '다이애나', 'imgsrc': 'img/Diana.png', 'name': 'Diana'}, {'num': 22, 'name-ko': '드레이븐', 'imgsrc': 'img/Draven.png', 'name': 'Draven'}, {'num': 23, 'name-ko': '문도 박사', 'imgsrc': 'img/DrMundo.png', 'name': 'DrMundo'}, {'num': 24, 'name-ko': '에코', 'imgsrc': 'img/Ekko.png', 'name': 'Ekko'}, {'num': 25, 'name-ko': '엘리스', 'imgsrc': 'img/Elise.png', 'name': 'Elise'}, {'num': 26, 'name-ko': '이블린', 'imgsrc': 'img/Evelynn.png', 'name': 'Evelynn'}, {'num': 27, 'name-ko': '이즈리얼', 'imgsrc': 'img/Ezreal.png', 'name': 'Ezreal'}, {'num': 28, 'name-ko': '피들스틱', 'imgsrc': 'img/Fiddlesticks.png', 'name': 'Fiddlesticks'}, {'num': 29, 'name-ko': '피오라', 'imgsrc': 'img/Fiora.png', 'name': 'Fiora'}, {'num': 30, 'name-ko': '피즈', 'imgsrc': 'img/Fizz.png', 'name': 'Fizz'}, {'num': 31, 'name-ko': '갈리오', 'imgsrc': 'img/Galio.png', 'name': 'Galio'}, {'num': 32, 'name-ko': '갱플랭크', 'imgsrc': 'img/Gangplank.png', 'name': 'Gangplank'}, {'num': 33, 'name-ko': '가렌', 'imgsrc': 'img/Garen.png', 'name': 'Garen'}, {'num': 34, 'name-ko': '나르', 'imgsrc': 'img/Gnar.png', 'name': 'Gnar'}, {'num': 35, 'name-ko': '그라가스', 'imgsrc': 'img/Gragas.png', 'name': 'Gragas'}, {'num': 36, 'name-ko': '그레이브즈', 'imgsrc': 'img/Graves.png', 'name': 'Graves'}, {'num': 37, 'name-ko': '헤카림', 'imgsrc': 'img/Hecarim.png', 'name': 'Hecarim'}, {'num': 38, 'name-ko': '하이머딩거', 'imgsrc': 'img/Heimerdinger.png', 'name': 'Heimerdinger'}, {'num': 39, 'name-ko': '일라오이', 'imgsrc': 'img/Illaoi.png', 'name': 'Illaoi'}, {'num': 40, 'name-ko': '이렐리아', 'imgsrc': 'img/Irelia.png', 'name': 'Irelia'}, {'num': 41, 'name-ko': '아이번', 'imgsrc': 'img/Ivern.png', 'name': 'Ivern'}, {'num': 42, 'name-ko': '잔나', 'imgsrc': 'img/Janna.png', 'name': 'Janna'}, {'num': 43, 'name-ko': '자르반 4세', 'imgsrc': 'img/JarvanIV.png', 'name': 'JarvanIV'}, {'num': 44, 'name-ko': '잭스', 'imgsrc': 'img/Jax.png', 'name': 'Jax'}, {'num': 45, 'name-ko': '제이스', 'imgsrc': 'img/Jayce.png', 'name': 'Jayce'}, {'num': 46, 'name-ko': '진', 'imgsrc': 'img/Jhin.png', 'name': 'Jhin'}, {'num': 47, 'name-ko': '징크스', 'imgsrc': 'img/Jinx.png', 'name': 'Jinx'}, {'num': 48, 'name-ko': '카이사', 'imgsrc': 'img/Kaisa.png', 'name': 'Kaisa'}, {'num': 49, 'name-ko': '칼리스타', 'imgsrc': 'img/Kalista.png', 'name': 'Kalista'}, {'num': 50, 'name-ko': '카르마', 'imgsrc': 'img/Karma.png', 'name': 'Karma'}, {'num': 51, 'name-ko': '카서스', 'imgsrc': 'img/Karthus.png', 'name': 'Karthus'}, {'num': 52, 'name-ko': '카사딘', 'imgsrc': 'img/Kassadin.png', 'name': 'Kassadin'}, {'num': 53, 'name-ko': '카타리나', 'imgsrc': 'img/Katarina.png', 'name': 'Katarina'}, {'num': 54, 'name-ko': '케일', 'imgsrc': 'img/Kayle.png', 'name': 'Kayle'}, {'num': 55, 'name-ko': '케인', 'imgsrc': 'img/Kayn.png', 'name': 'Kayn'}, {'num': 56, 'name-ko': '케넨', 'imgsrc': 'img/Kennen.png', 'name': 'Kennen'}, {'num': 57, 'name-ko': '카직스', 'imgsrc': 'img/Khazix.png', 'name': 'Khazix'}, {'num': 58, 'name-ko': '킨드레드', 'imgsrc': 'img/Kindred.png', 'name': 'Kindred'}, {'num': 59, 'name-ko': '클레드', 'imgsrc': 'img/Kled.png', 'name': 'Kled'}, {'num': 60, 'name-ko': '코그모', 'imgsrc': 'img/KogMaw.png', 'name': 'KogMaw'}, {'num': 61, 'name-ko': '르블랑', 'imgsrc': 'img/Leblanc.png', 'name': 'Leblanc'}, {'num': 62, 'name-ko': '리 신', 'imgsrc': 'img/LeeSin.png', 'name': 'LeeSin'}, {'num': 63, 'name-ko': '레오나', 'imgsrc': 'img/Leona.png', 'name': 'Leona'}, {'num': 64, 'name-ko': '리산드라', 'imgsrc': 'img/Lissandra.png', 'name': 'Lissandra'}, {'num': 65, 'name-ko': '루시안', 'imgsrc': 'img/Lucian.png', 'name': 'Lucian'}, {'num': 66, 'name-ko': '룰루', 'imgsrc': 'img/Lulu.png', 'name': 'Lulu'}, {'num': 67, 'name-ko': '럭스', 'imgsrc': 'img/Lux.png', 'name': 'Lux'}, {'num': 68, 'name-ko': '말파이트', 'imgsrc': 'img/Malphite.png', 'name': 'Malphite'}, {'num': 69, 'name-ko': '말자하', 'imgsrc': 'img/Malzahar.png', 'name': 'Malzahar'}, {'num': 70, 'name-ko': '마오카이', 'imgsrc': 'img/Maokai.png', 'name': 'Maokai'}, {'num': 71, 'name-ko': '마스터 이', 'imgsrc': 'img/MasterYi.png', 'name': 'MasterYi'}, {'num': 72, 'name-ko': '미스 포츈', 'imgsrc': 'img/MissFortune.png', 'name': 'MissFortune'}, {'num': 73, 'name-ko': '오공', 'imgsrc': 'img/MonkeyKing.png', 'name': 'MonkeyKing'}, {'num': 74, 'name-ko': '모데카이저', 'imgsrc': 'img/Mordekaiser.png', 'name': 'Mordekaiser'}, {'num': 75, 'name-ko': '모르가나', 'imgsrc': 'img/Morgana.png', 'name': 'Morgana'}, {'num': 76, 'name-ko': '나미', 'imgsrc': 'img/Nami.png', 'name': 'Nami'}, {'num': 77, 'name-ko': '나서스', 'imgsrc': 'img/Nasus.png', 'name': 'Nasus'}, {'num': 78, 'name-ko': '노틸러스', 'imgsrc': 'img/Nautilus.png', 'name': 'Nautilus'}, {'num': 79, 'name-ko': '니코', 'imgsrc': 'img/Neeko.png', 'name': 'Neeko'}, {'num': 80, 'name-ko': '니달리', 'imgsrc': 'img/Nidalee.png', 'name': 'Nidalee'}, {'num': 81, 'name-ko': '녹턴', 'imgsrc': 'img/Nocturne.png', 'name': 'Nocturne'}, {'num': 82, 'name-ko': '누누와 윌럼프', 'imgsrc': 'img/Nunu.png', 'name': 'Nunu'}, {'num': 83, 'name-ko': '올라프', 'imgsrc': 'img/Olaf.png', 'name': 'Olaf'}, {'num': 84, 'name-ko': '오리아나', 'imgsrc': 'img/Orianna.png', 'name': 'Orianna'}, {'num': 85, 'name-ko': '오른', 'imgsrc': 'img/Ornn.png', 'name': 'Ornn'}, {'num': 86, 'name-ko': '판테온', 'imgsrc': 'img/Pantheon.png', 'name': 'Pantheon'}, {'num': 87, 'name-ko': '뽀삐', 'imgsrc': 'img/Poppy.png', 'name': 'Poppy'}, {'num': 88, 'name-ko': '파이크', 'imgsrc': 'img/Pyke.png', 'name': 'Pyke'}, {'num': 89, 'name-ko': '키아나', 'imgsrc': 'img/Qiyana.png', 'name': 'Qiyana'}, {'num': 90, 'name-ko': '퀸', 'imgsrc': 'img/Quinn.png', 'name': 'Quinn'}, {'num': 91, 'name-ko': '라칸', 'imgsrc': 'img/Rakan.png', 'name': 'Rakan'}, {'num': 92, 'name-ko': '람머스', 'imgsrc': 'img/Rammus.png', 'name': 'Rammus'}, {'num': 93, 'name-ko': '렉사이', 'imgsrc': 'img/RekSai.png', 'name': 'RekSai'}, {'num': 94, 'name-ko': '레넥톤', 'imgsrc': 'img/Renekton.png', 'name': 'Renekton'}, {'num': 95, 'name-ko': '렝가', 'imgsrc': 'img/Rengar.png', 'name': 'Rengar'}, {'num': 96, 'name-ko': '리븐', 'imgsrc': 'img/Riven.png', 'name': 'Riven'}, {'num': 97, 'name-ko': '럼블', 'imgsrc': 'img/Rumble.png', 'name': 'Rumble'}, {'num': 98, 'name-ko': '라이즈', 'imgsrc': 'img/Ryze.png', 'name': 'Ryze'}, {'num': 99, 'name-ko': '세주아니', 'imgsrc': 'img/Sejuani.png', 'name': 'Sejuani'}, {'num': 100, 'name-ko': '세나', 'imgsrc': 'img/Senna.png', 'name': 'Senna'}, {'num': 101, 'name-ko': '세트', 'imgsrc': 'img/Sett.png', 'name': 'Sett'}, {'num': 102, 'name-ko': '샤코', 'imgsrc': 'img/Shaco.png', 'name': 'Shaco'}, {'num': 103, 'name-ko': '쉔', 'imgsrc': 'img/Shen.png', 'name': 'Shen'}, {'num': 104, 'name-ko': '쉬바나', 'imgsrc': 'img/Shyvana.png', 'name': 'Shyvana'}, {'num': 105, 'name-ko': '신지드', 'imgsrc': 'img/Singed.png', 'name': 'Singed'}, {'num': 106, 'name-ko': '사이온', 'imgsrc': 'img/Sion.png', 'name': 'Sion'}, {'num': 107, 'name-ko': '시비르', 'imgsrc': 'img/Sivir.png', 'name': 'Sivir'}, {'num': 108, 'name-ko': '스카너', 'imgsrc': 'img/Skarner.png', 'name': 'Skarner'}, {'num': 109, 'name-ko': '소나', 'imgsrc': 'img/Sona.png', 'name': 'Sona'}, {'num': 110, 'name-ko': '소라카', 'imgsrc': 'img/Soraka.png', 'name': 'Soraka'}, {'num': 111, 'name-ko': '스웨인', 'imgsrc': 'img/Swain.png', 'name': 'Swain'}, {'num': 112, 'name-ko': '사일러스', 'imgsrc': 'img/Sylas.png', 'name': 'Sylas'}, {'num': 113, 'name-ko': '신드라', 'imgsrc': 'img/Syndra.png', 'name': 'Syndra'}, {'num': 114, 'name-ko': '탐 켄치', 'imgsrc': 'img/TahmKench.png', 'name': 'TahmKench'}, {'num': 115, 'name-ko': '탈리야', 'imgsrc': 'img/Taliyah.png', 'name': 'Taliyah'}, {'num': 116, 'name-ko': '탈론', 'imgsrc': 'img/Talon.png', 'name': 'Talon'}, {'num': 117, 'name-ko': '타릭', 'imgsrc': 'img/Taric.png', 'name': 'Taric'}, {'num': 118, 'name-ko': '티모', 'imgsrc': 'img/Teemo.png', 'name': 'Teemo'}, {'num': 119, 'name-ko': '쓰레쉬', 'imgsrc': 'img/Thresh.png', 'name': 'Thresh'}, {'num': 120, 'name-ko': '트리스타나', 'imgsrc': 'img/Tristana.png', 'name': 'Tristana'}, {'num': 121, 'name-ko': '트런들', 'imgsrc': 'img/Trundle.png', 'name': 'Trundle'}, {'num': 122, 'name-ko': '트린다미어', 'imgsrc': 'img/Tryndamere.png', 'name': 'Tryndamere'}, {'num': 123, 'name-ko': '트위스티드 페이트', 'imgsrc': 'img/TwistedFate.png', 'name': 'TwistedFate'}, {'num': 124, 'name-ko': '트위치', 'imgsrc': 'img/Twitch.png', 'name': 'Twitch'}, {'num': 125, 'name-ko': '우디르', 'imgsrc': 'img/Udyr.png', 'name': 'Udyr'}, {'num': 126, 'name-ko': '우르곳', 'imgsrc': 'img/Urgot.png', 'name': 'Urgot'}, {'num': 127, 'name-ko': '바루스', 'imgsrc': 'img/Varus.png', 'name': 'Varus'}, {'num': 128, 'name-ko': '베인', 'imgsrc': 'img/Vayne.png', 'name': 'Vayne'}, {'num': 129, 'name-ko': '베이가', 'imgsrc': 'img/Veigar.png', 'name': 'Veigar'}, {'num': 130, 'name-ko': '벨코즈', 'imgsrc': 'img/Velkoz.png', 'name': 'Velkoz'}, {'num': 131, 'name-ko': '바이', 'imgsrc': 'img/Vi.png', 'name': 'Vi'}, {'num': 132, 'name-ko': '빅토르', 'imgsrc': 'img/Viktor.png', 'name': 'Viktor'}, {'num': 133, 'name-ko': '블라디미르', 'imgsrc': 'img/Vladimir.png', 'name': 'Vladimir'}, {'num': 134, 'name-ko': '볼리베어', 'imgsrc': 'img/Volibear.png', 'name': 'Volibear'}, {'num': 135, 'name-ko': '워윅', 'imgsrc': 'img/Warwick.png', 'name': 'Warwick'}, {'num': 136, 'name-ko': '자야', 'imgsrc': 'img/Xayah.png', 'name': 'Xayah'}, {'num': 137, 'name-ko': '제라스', 'imgsrc': 'img/Xerath.png', 'name': 'Xerath'}, {'num': 138, 'name-ko': '신 짜오', 'imgsrc': 'img/XinZhao.png', 'name': 'XinZhao'}, {'num': 139, 'name-ko': '야스오', 'imgsrc': 'img/Yasuo.png', 'name': 'Yasuo'}, {'num': 140, 'name-ko': '요릭', 'imgsrc': 'img/Yorick.png', 'name': 'Yorick'}, {'num': 141, 'name-ko': '유미', 'imgsrc': 'img/Yuumi.png', 'name': 'Yuumi'}, {'num': 142, 'name-ko': '자크', 'imgsrc': 'img/Zac.png', 'name': 'Zac'}, {'num': 143, 'name-ko': '제드', 'imgsrc': 'img/Zed.png', 'name': 'Zed'}, {'num': 144, 'name-ko': '직스', 'imgsrc': 'img/Ziggs.png', 'name': 'Ziggs'}, {'num': 145, 'name-ko': '질리언', 'imgsrc': 'img/Zilean.png', 'name': 'Zilean'}, {'num': 146, 'name-ko': '조이', 'imgsrc': 'img/Zoe.png', 'name': 'Zoe'}, {'num': 147, 'name-ko': '자이라', 'imgsrc': 'img/Zyra.png', 'name': 'Zyra'}]\n"
     ]
    }
   ],
   "source": [
    "print(List)"
   ]
  },
  {
   "cell_type": "code",
   "execution_count": 21,
   "metadata": {},
   "outputs": [],
   "source": [
    "List2 = [{\"num\": 0, \"name-ko\": \"아트록스\", \"imgsrc\": \"img/Aatrox.png\", \"name\": \"Aatrox\"}, {\"num\": 1, \"name-ko\": \"아리\", \"imgsrc\": \"img/Ahri.png\", \"name\": \"Ahri\"}, {\"num\": 2, \"name-ko\": \"아칼리\", \"imgsrc\": \"img/Akali.png\", \"name\": \"Akali\"}, {\"num\": 3, \"name-ko\": \"알리스타\", \"imgsrc\": \"img/Alistar.png\", \"name\": \"Alistar\"}, {\"num\": 4, \"name-ko\": \"아무무\", \"imgsrc\": \"img/Amumu.png\", \"name\": \"Amumu\"}, {\"num\": 5, \"name-ko\": \"애니비아\", \"imgsrc\": \"img/Anivia.png\", \"name\": \"Anivia\"}, {\"num\": 6, \"name-ko\": \"애니\", \"imgsrc\": \"img/Annie.png\", \"name\": \"Annie\"}, {\"num\": 7, \"name-ko\": \"아펠리오스\", \"imgsrc\": \"img/Aphelios.png\", \"name\": \"Aphelios\"}, {\"num\": 8, \"name-ko\": \"애쉬\", \"imgsrc\": \"img/Ashe.png\", \"name\": \"Ashe\"}, {\"num\": 9, \"name-ko\": \"아우렐리온 솔\", \"imgsrc\": \"img/AurelionSol.png\", \"name\": \"AurelionSol\"}, {\"num\": 10, \"name-ko\": \"아지르\", \"imgsrc\": \"img/Azir.png\", \"name\": \"Azir\"}, {\"num\": 11, \"name-ko\": \"바드\", \"imgsrc\": \"img/Bard.png\", \"name\": \"Bard\"}, {\"num\": 12, \"name-ko\": \"블리츠크랭크\", \"imgsrc\": \"img/Blitzcrank.png\", \"name\": \"Blitzcrank\"}, {\"num\": 13, \"name-ko\": \"브랜드\", \"imgsrc\": \"img/Brand.png\", \"name\": \"Brand\"}, {\"num\": 14, \"name-ko\": \"브라움\", \"imgsrc\": \"img/Braum.png\", \"name\": \"Braum\"}, {\"num\": 15, \"name-ko\": \"케이틀린\", \"imgsrc\": \"img/Caitlyn.png\", \"name\": \"Caitlyn\"}, {\"num\": 16, \"name-ko\": \"카밀\", \"imgsrc\": \"img/Camille.png\", \"name\": \"Camille\"}, {\"num\": 17, \"name-ko\": \"카시오페아\", \"imgsrc\": \"img/Cassiopeia.png\", \"name\": \"Cassiopeia\"}, {\"num\": 18, \"name-ko\": \"초가스\", \"imgsrc\": \"img/Chogath.png\", \"name\": \"Chogath\"}, {\"num\": 19, \"name-ko\": \"코르키\", \"imgsrc\": \"img/Corki.png\", \"name\": \"Corki\"}, {\"num\": 20, \"name-ko\": \"다리우스\", \"imgsrc\": \"img/Darius.png\", \"name\": \"Darius\"}, {\"num\": 21, \"name-ko\": \"다이애나\", \"imgsrc\": \"img/Diana.png\", \"name\": \"Diana\"}, {\"num\": 22, \"name-ko\": \"드레이븐\", \"imgsrc\": \"img/Draven.png\", \"name\": \"Draven\"}, {\"num\": 23, \"name-ko\": \"문도 박사\", \"imgsrc\": \"img/DrMundo.png\", \"name\": \"DrMundo\"}, {\"num\": 24, \"name-ko\": \"에코\", \"imgsrc\": \"img/Ekko.png\", \"name\": \"Ekko\"}, {\"num\": 25, \"name-ko\": \"엘리스\", \"imgsrc\": \"img/Elise.png\", \"name\": \"Elise\"}, {\"num\": 26, \"name-ko\": \"이블린\", \"imgsrc\": \"img/Evelynn.png\", \"name\": \"Evelynn\"}, {\"num\": 27, \"name-ko\": \"이즈리얼\", \"imgsrc\": \"img/Ezreal.png\", \"name\": \"Ezreal\"}, {\"num\": 28, \"name-ko\": \"피들스틱\", \"imgsrc\": \"img/Fiddlesticks.png\", \"name\": \"Fiddlesticks\"}, {\"num\": 29, \"name-ko\": \"피오라\", \"imgsrc\": \"img/Fiora.png\", \"name\": \"Fiora\"}, {\"num\": 30, \"name-ko\": \"피즈\", \"imgsrc\": \"img/Fizz.png\", \"name\": \"Fizz\"}, {\"num\": 31, \"name-ko\": \"갈리오\", \"imgsrc\": \"img/Galio.png\", \"name\": \"Galio\"}, {\"num\": 32, \"name-ko\": \"갱플랭크\", \"imgsrc\": \"img/Gangplank.png\", \"name\": \"Gangplank\"}, {\"num\": 33, \"name-ko\": \"가렌\", \"imgsrc\": \"img/Garen.png\", \"name\": \"Garen\"}, {\"num\": 34, \"name-ko\": \"나르\", \"imgsrc\": \"img/Gnar.png\", \"name\": \"Gnar\"}, {\"num\": 35, \"name-ko\": \"그라가스\", \"imgsrc\": \"img/Gragas.png\", \"name\": \"Gragas\"}, {\"num\": 36, \"name-ko\": \"그레이브즈\", \"imgsrc\": \"img/Graves.png\", \"name\": \"Graves\"}, {\"num\": 37, \"name-ko\": \"헤카림\", \"imgsrc\": \"img/Hecarim.png\", \"name\": \"Hecarim\"}, {\"num\": 38, \"name-ko\": \"하이머딩거\", \"imgsrc\": \"img/Heimerdinger.png\", \"name\": \"Heimerdinger\"}, {\"num\": 39, \"name-ko\": \"일라오이\", \"imgsrc\": \"img/Illaoi.png\", \"name\": \"Illaoi\"}, {\"num\": 40, \"name-ko\": \"이렐리아\", \"imgsrc\": \"img/Irelia.png\", \"name\": \"Irelia\"}, {\"num\": 41, \"name-ko\": \"아이번\", \"imgsrc\": \"img/Ivern.png\", \"name\": \"Ivern\"}, {\"num\": 42, \"name-ko\": \"잔나\", \"imgsrc\": \"img/Janna.png\", \"name\": \"Janna\"}, {\"num\": 43, \"name-ko\": \"자르반 4세\", \"imgsrc\": \"img/JarvanIV.png\", \"name\": \"JarvanIV\"}, {\"num\": 44, \"name-ko\": \"잭스\", \"imgsrc\": \"img/Jax.png\", \"name\": \"Jax\"}, {\"num\": 45, \"name-ko\": \"제이스\", \"imgsrc\": \"img/Jayce.png\", \"name\": \"Jayce\"}, {\"num\": 46, \"name-ko\": \"진\", \"imgsrc\": \"img/Jhin.png\", \"name\": \"Jhin\"}, {\"num\": 47, \"name-ko\": \"징크스\", \"imgsrc\": \"img/Jinx.png\", \"name\": \"Jinx\"}, {\"num\": 48, \"name-ko\": \"카이사\", \"imgsrc\": \"img/Kaisa.png\", \"name\": \"Kaisa\"}, {\"num\": 49, \"name-ko\": \"칼리스타\", \"imgsrc\": \"img/Kalista.png\", \"name\": \"Kalista\"}, {\"num\": 50, \"name-ko\": \"카르마\", \"imgsrc\": \"img/Karma.png\", \"name\": \"Karma\"}, {\"num\": 51, \"name-ko\": \"카서스\", \"imgsrc\": \"img/Karthus.png\", \"name\": \"Karthus\"}, {\"num\": 52, \"name-ko\": \"카사딘\", \"imgsrc\": \"img/Kassadin.png\", \"name\": \"Kassadin\"}, {\"num\": 53, \"name-ko\": \"카타리나\", \"imgsrc\": \"img/Katarina.png\", \"name\": \"Katarina\"}, {\"num\": 54, \"name-ko\": \"케일\", \"imgsrc\": \"img/Kayle.png\", \"name\": \"Kayle\"}, {\"num\": 55, \"name-ko\": \"케인\", \"imgsrc\": \"img/Kayn.png\", \"name\": \"Kayn\"}, {\"num\": 56, \"name-ko\": \"케넨\", \"imgsrc\": \"img/Kennen.png\", \"name\": \"Kennen\"}, {\"num\": 57, \"name-ko\": \"카직스\", \"imgsrc\": \"img/Khazix.png\", \"name\": \"Khazix\"}, {\"num\": 58, \"name-ko\": \"킨드레드\", \"imgsrc\": \"img/Kindred.png\", \"name\": \"Kindred\"}, {\"num\": 59, \"name-ko\": \"클레드\", \"imgsrc\": \"img/Kled.png\", \"name\": \"Kled\"}, {\"num\": 60, \"name-ko\": \"코그모\", \"imgsrc\": \"img/KogMaw.png\", \"name\": \"KogMaw\"}, {\"num\": 61, \"name-ko\": \"르블랑\", \"imgsrc\": \"img/Leblanc.png\", \"name\": \"Leblanc\"}, {\"num\": 62, \"name-ko\": \"리 신\", \"imgsrc\": \"img/LeeSin.png\", \"name\": \"LeeSin\"}, {\"num\": 63, \"name-ko\": \"레오나\", \"imgsrc\": \"img/Leona.png\", \"name\": \"Leona\"}, {\"num\": 64, \"name-ko\": \"리산드라\", \"imgsrc\": \"img/Lissandra.png\", \"name\": \"Lissandra\"}, {\"num\": 65, \"name-ko\": \"루시안\", \"imgsrc\": \"img/Lucian.png\", \"name\": \"Lucian\"}, {\"num\": 66, \"name-ko\": \"룰루\", \"imgsrc\": \"img/Lulu.png\", \"name\": \"Lulu\"}, {\"num\": 67, \"name-ko\": \"럭스\", \"imgsrc\": \"img/Lux.png\", \"name\": \"Lux\"}, {\"num\": 68, \"name-ko\": \"말파이트\", \"imgsrc\": \"img/Malphite.png\", \"name\": \"Malphite\"}, {\"num\": 69, \"name-ko\": \"말자하\", \"imgsrc\": \"img/Malzahar.png\", \"name\": \"Malzahar\"}, {\"num\": 70, \"name-ko\": \"마오카이\", \"imgsrc\": \"img/Maokai.png\", \"name\": \"Maokai\"}, {\"num\": 71, \"name-ko\": \"마스터 이\", \"imgsrc\": \"img/MasterYi.png\", \"name\": \"MasterYi\"}, {\"num\": 72, \"name-ko\": \"미스 포츈\", \"imgsrc\": \"img/MissFortune.png\", \"name\": \"MissFortune\"}, {\"num\": 73, \"name-ko\": \"오공\", \"imgsrc\": \"img/MonkeyKing.png\", \"name\": \"MonkeyKing\"}, {\"num\": 74, \"name-ko\": \"모데카이저\", \"imgsrc\": \"img/Mordekaiser.png\", \"name\": \"Mordekaiser\"}, {\"num\": 75, \"name-ko\": \"모르가나\", \"imgsrc\": \"img/Morgana.png\", \"name\": \"Morgana\"}, {\"num\": 76, \"name-ko\": \"나미\", \"imgsrc\": \"img/Nami.png\", \"name\": \"Nami\"}, {\"num\": 77, \"name-ko\": \"나서스\", \"imgsrc\": \"img/Nasus.png\", \"name\": \"Nasus\"}, {\"num\": 78, \"name-ko\": \"노틸러스\", \"imgsrc\": \"img/Nautilus.png\", \"name\": \"Nautilus\"}, {\"num\": 79, \"name-ko\": \"니코\", \"imgsrc\": \"img/Neeko.png\", \"name\": \"Neeko\"}, {\"num\": 80, \"name-ko\": \"니달리\", \"imgsrc\": \"img/Nidalee.png\", \"name\": \"Nidalee\"}, {\"num\": 81, \"name-ko\": \"녹턴\", \"imgsrc\": \"img/Nocturne.png\", \"name\": \"Nocturne\"}, {\"num\": 82, \"name-ko\": \"누누와 윌럼프\", \"imgsrc\": \"img/Nunu.png\", \"name\": \"Nunu\"}, {\"num\": 83, \"name-ko\": \"올라프\", \"imgsrc\": \"img/Olaf.png\", \"name\": \"Olaf\"}, {\"num\": 84, \"name-ko\": \"오리아나\", \"imgsrc\": \"img/Orianna.png\", \"name\": \"Orianna\"}, {\"num\": 85, \"name-ko\": \"오른\", \"imgsrc\": \"img/Ornn.png\", \"name\": \"Ornn\"}, {\"num\": 86, \"name-ko\": \"판테온\", \"imgsrc\": \"img/Pantheon.png\", \"name\": \"Pantheon\"}, {\"num\": 87, \"name-ko\": \"뽀삐\", \"imgsrc\": \"img/Poppy.png\", \"name\": \"Poppy\"}, {\"num\": 88, \"name-ko\": \"파이크\", \"imgsrc\": \"img/Pyke.png\", \"name\": \"Pyke\"}, {\"num\": 89, \"name-ko\": \"키아나\", \"imgsrc\": \"img/Qiyana.png\", \"name\": \"Qiyana\"}, {\"num\": 90, \"name-ko\": \"퀸\", \"imgsrc\": \"img/Quinn.png\", \"name\": \"Quinn\"}, {\"num\": 91, \"name-ko\": \"라칸\", \"imgsrc\": \"img/Rakan.png\", \"name\": \"Rakan\"}, {\"num\": 92, \"name-ko\": \"람머스\", \"imgsrc\": \"img/Rammus.png\", \"name\": \"Rammus\"}, {\"num\": 93, \"name-ko\": \"렉사이\", \"imgsrc\": \"img/RekSai.png\", \"name\": \"RekSai\"}, {\"num\": 94, \"name-ko\": \"레넥톤\", \"imgsrc\": \"img/Renekton.png\", \"name\": \"Renekton\"}, {\"num\": 95, \"name-ko\": \"렝가\", \"imgsrc\": \"img/Rengar.png\", \"name\": \"Rengar\"}, {\"num\": 96, \"name-ko\": \"리븐\", \"imgsrc\": \"img/Riven.png\", \"name\": \"Riven\"}, {\"num\": 97, \"name-ko\": \"럼블\", \"imgsrc\": \"img/Rumble.png\", \"name\": \"Rumble\"}, {\"num\": 98, \"name-ko\": \"라이즈\", \"imgsrc\": \"img/Ryze.png\", \"name\": \"Ryze\"}, {\"num\": 99, \"name-ko\": \"세주아니\", \"imgsrc\": \"img/Sejuani.png\", \"name\": \"Sejuani\"}, {\"num\": 100, \"name-ko\": \"세나\", \"imgsrc\": \"img/Senna.png\", \"name\": \"Senna\"}, {\"num\": 101, \"name-ko\": \"세트\", \"imgsrc\": \"img/Sett.png\", \"name\": \"Sett\"}, {\"num\": 102, \"name-ko\": \"샤코\", \"imgsrc\": \"img/Shaco.png\", \"name\": \"Shaco\"}, {\"num\": 103, \"name-ko\": \"쉔\", \"imgsrc\": \"img/Shen.png\", \"name\": \"Shen\"}, {\"num\": 104, \"name-ko\": \"쉬바나\", \"imgsrc\": \"img/Shyvana.png\", \"name\": \"Shyvana\"}, {\"num\": 105, \"name-ko\": \"신지드\", \"imgsrc\": \"img/Singed.png\", \"name\": \"Singed\"}, {\"num\": 106, \"name-ko\": \"사이온\", \"imgsrc\": \"img/Sion.png\", \"name\": \"Sion\"}, {\"num\": 107, \"name-ko\": \"시비르\", \"imgsrc\": \"img/Sivir.png\", \"name\": \"Sivir\"}, {\"num\": 108, \"name-ko\": \"스카너\", \"imgsrc\": \"img/Skarner.png\", \"name\": \"Skarner\"}, {\"num\": 109, \"name-ko\": \"소나\", \"imgsrc\": \"img/Sona.png\", \"name\": \"Sona\"}, {\"num\": 110, \"name-ko\": \"소라카\", \"imgsrc\": \"img/Soraka.png\", \"name\": \"Soraka\"}, {\"num\": 111, \"name-ko\": \"스웨인\", \"imgsrc\": \"img/Swain.png\", \"name\": \"Swain\"}, {\"num\": 112, \"name-ko\": \"사일러스\", \"imgsrc\": \"img/Sylas.png\", \"name\": \"Sylas\"}, {\"num\": 113, \"name-ko\": \"신드라\", \"imgsrc\": \"img/Syndra.png\", \"name\": \"Syndra\"}, {\"num\": 114, \"name-ko\": \"탐 켄치\", \"imgsrc\": \"img/TahmKench.png\", \"name\": \"TahmKench\"}, {\"num\": 115, \"name-ko\": \"탈리야\", \"imgsrc\": \"img/Taliyah.png\", \"name\": \"Taliyah\"}, {\"num\": 116, \"name-ko\": \"탈론\", \"imgsrc\": \"img/Talon.png\", \"name\": \"Talon\"}, {\"num\": 117, \"name-ko\": \"타릭\", \"imgsrc\": \"img/Taric.png\", \"name\": \"Taric\"}, {\"num\": 118, \"name-ko\": \"티모\", \"imgsrc\": \"img/Teemo.png\", \"name\": \"Teemo\"}, {\"num\": 119, \"name-ko\": \"쓰레쉬\", \"imgsrc\": \"img/Thresh.png\", \"name\": \"Thresh\"}, {\"num\": 120, \"name-ko\": \"트리스타나\", \"imgsrc\": \"img/Tristana.png\", \"name\": \"Tristana\"}, {\"num\": 121, \"name-ko\": \"트런들\", \"imgsrc\": \"img/Trundle.png\", \"name\": \"Trundle\"}, {\"num\": 122, \"name-ko\": \"트린다미어\", \"imgsrc\": \"img/Tryndamere.png\", \"name\": \"Tryndamere\"}, {\"num\": 123, \"name-ko\": \"트위스티드 페이트\", \"imgsrc\": \"img/TwistedFate.png\", \"name\": \"TwistedFate\"}, {\"num\": 124, \"name-ko\": \"트위치\", \"imgsrc\": \"img/Twitch.png\", \"name\": \"Twitch\"}, {\"num\": 125, \"name-ko\": \"우디르\", \"imgsrc\": \"img/Udyr.png\", \"name\": \"Udyr\"}, {\"num\": 126, \"name-ko\": \"우르곳\", \"imgsrc\": \"img/Urgot.png\", \"name\": \"Urgot\"}, {\"num\": 127, \"name-ko\": \"바루스\", \"imgsrc\": \"img/Varus.png\", \"name\": \"Varus\"}, {\"num\": 128, \"name-ko\": \"베인\", \"imgsrc\": \"img/Vayne.png\", \"name\": \"Vayne\"}, {\"num\": 129, \"name-ko\": \"베이가\", \"imgsrc\": \"img/Veigar.png\", \"name\": \"Veigar\"}, {\"num\": 130, \"name-ko\": \"벨코즈\", \"imgsrc\": \"img/Velkoz.png\", \"name\": \"Velkoz\"}, {\"num\": 131, \"name-ko\": \"바이\", \"imgsrc\": \"img/Vi.png\", \"name\": \"Vi\"}, {\"num\": 132, \"name-ko\": \"빅토르\", \"imgsrc\": \"img/Viktor.png\", \"name\": \"Viktor\"}, {\"num\": 133, \"name-ko\": \"블라디미르\", \"imgsrc\": \"img/Vladimir.png\", \"name\": \"Vladimir\"}, {\"num\": 134, \"name-ko\": \"볼리베어\", \"imgsrc\": \"img/Volibear.png\", \"name\": \"Volibear\"}, {\"num\": 135, \"name-ko\": \"워윅\", \"imgsrc\": \"img/Warwick.png\", \"name\": \"Warwick\"}, {\"num\": 136, \"name-ko\": \"자야\", \"imgsrc\": \"img/Xayah.png\", \"name\": \"Xayah\"}, {\"num\": 137, \"name-ko\": \"제라스\", \"imgsrc\": \"img/Xerath.png\", \"name\": \"Xerath\"}, {\"num\": 138, \"name-ko\": \"신 짜오\", \"imgsrc\": \"img/XinZhao.png\", \"name\": \"XinZhao\"}, {\"num\": 139, \"name-ko\": \"야스오\", \"imgsrc\": \"img/Yasuo.png\", \"name\": \"Yasuo\"}, {\"num\": 140, \"name-ko\": \"요릭\", \"imgsrc\": \"img/Yorick.png\", \"name\": \"Yorick\"}, {\"num\": 141, \"name-ko\": \"유미\", \"imgsrc\": \"img/Yuumi.png\", \"name\": \"Yuumi\"}, {\"num\": 142, \"name-ko\": \"자크\", \"imgsrc\": \"img/Zac.png\", \"name\": \"Zac\"}, {\"num\": 143, \"name-ko\": \"제드\", \"imgsrc\": \"img/Zed.png\", \"name\": \"Zed\"}, {\"num\": 144, \"name-ko\": \"직스\", \"imgsrc\": \"img/Ziggs.png\", \"name\": \"Ziggs\"}, {\"num\": 145, \"name-ko\": \"질리언\", \"imgsrc\": \"img/Zilean.png\", \"name\": \"Zilean\"}, {\"num\": 146, \"name-ko\": \"조이\", \"imgsrc\": \"img/Zoe.png\", \"name\": \"Zoe\"}, {\"num\": 147, \"name-ko\": \"자이라\", \"imgsrc\": \"img/Zyra.png\", \"name\": \"Zyra\"}]"
   ]
  },
  {
   "cell_type": "code",
   "execution_count": 22,
   "metadata": {},
   "outputs": [
    {
     "data": {
      "text/plain": [
       "{'num': 0, 'name-ko': '아트록스', 'imgsrc': 'img/Aatrox.png', 'name': 'Aatrox'}"
      ]
     },
     "execution_count": 22,
     "metadata": {},
     "output_type": "execute_result"
    }
   ],
   "source": [
    "List2[0]"
   ]
  },
  {
   "cell_type": "code",
   "execution_count": null,
   "metadata": {},
   "outputs": [],
   "source": []
  }
 ],
 "metadata": {
  "kernelspec": {
   "display_name": "Python 3",
   "language": "python",
   "name": "python3"
  },
  "language_info": {
   "codemirror_mode": {
    "name": "ipython",
    "version": 3
   },
   "file_extension": ".py",
   "mimetype": "text/x-python",
   "name": "python",
   "nbconvert_exporter": "python",
   "pygments_lexer": "ipython3",
   "version": "3.7.6"
  }
 },
 "nbformat": 4,
 "nbformat_minor": 4
}
